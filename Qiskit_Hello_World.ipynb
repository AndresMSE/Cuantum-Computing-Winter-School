{
 "cells": [
  {
   "cell_type": "code",
   "execution_count": 1,
   "id": "3256a744",
   "metadata": {},
   "outputs": [],
   "source": [
    "import qiskit as q"
   ]
  },
  {
   "cell_type": "code",
   "execution_count": 2,
   "id": "29219bc5",
   "metadata": {},
   "outputs": [
    {
     "data": {
      "text/plain": [
       "{'qiskit-terra': '0.19.1', 'qiskit-aer': '0.10.2', 'qiskit-ignis': '0.7.0', 'qiskit-ibmq-provider': '0.18.3', 'qiskit-aqua': None, 'qiskit': '0.34.1', 'qiskit-nature': None, 'qiskit-finance': None, 'qiskit-optimization': None, 'qiskit-machine-learning': None}"
      ]
     },
     "execution_count": 2,
     "metadata": {},
     "output_type": "execute_result"
    }
   ],
   "source": [
    "q.__qiskit_version__"
   ]
  },
  {
   "cell_type": "code",
   "execution_count": 3,
   "id": "6fe18dd0",
   "metadata": {},
   "outputs": [],
   "source": [
    "from qiskit import IBMQ"
   ]
  },
  {
   "cell_type": "code",
   "execution_count": 4,
   "id": "72bd797b",
   "metadata": {},
   "outputs": [
    {
     "name": "stderr",
     "output_type": "stream",
     "text": [
      "configrc.store_credentials:WARNING:2022-01-27 02:40:45,426: Credentials already present. Set overwrite=True to overwrite.\n"
     ]
    }
   ],
   "source": [
    "IBMQ.save_account('6c364aecc54a6f78cfc4abda8a5c7b770cb7601de9ae7058004a3747aee92217ae741bc8cbcce7408b0b28a55e082b4f454f68c61df9c0e888dc0c6a824ff4c4')"
   ]
  },
  {
   "cell_type": "code",
   "execution_count": 5,
   "id": "310ed612",
   "metadata": {},
   "outputs": [
    {
     "data": {
      "text/plain": [
       "<AccountProvider for IBMQ(hub='ibm-q', group='open', project='main')>"
      ]
     },
     "execution_count": 5,
     "metadata": {},
     "output_type": "execute_result"
    }
   ],
   "source": [
    "IBMQ.load_account()"
   ]
  },
  {
   "cell_type": "code",
   "execution_count": 6,
   "id": "46a989e5",
   "metadata": {},
   "outputs": [],
   "source": [
    "from array_to_latex import to_ltx\n",
    "from IPython.display import Markdown, display"
   ]
  },
  {
   "cell_type": "code",
   "execution_count": 7,
   "id": "09a91519",
   "metadata": {},
   "outputs": [],
   "source": [
    "def printmd(string):\n",
    "    display(Markdown(string))\n",
    "def printarray(array,preface=\"\"):\n",
    "    printmd(\"$\"+preface+to_ltx(array, frmt = '{:6.2f}', arraytype = 'pmatrix',print_out= False)+\"$\")"
   ]
  },
  {
   "cell_type": "markdown",
   "id": "b650f781",
   "metadata": {},
   "source": [
    " - Terra .- Herramientas para la construcción de circuitos cuánticos. Desde la interfaz de alto nivel hasta protocolos de pulsos.\n",
    " - Aqua .- Algoritmos con enfoque a aplicaciones. (química, finanzas,machine learning, optimización)\n",
    " - Ignis .- Herramientas para benchmarking, caracterización y corrección de errores.\n",
    " - Aer .- Simuladores y emuladores"
   ]
  },
  {
   "cell_type": "markdown",
   "id": "d4b29946",
   "metadata": {},
   "source": [
    "# Hello Quantum world! \n",
    "\n",
    "Let's develop our first quantum program by saying hi to the world."
   ]
  },
  {
   "cell_type": "code",
   "execution_count": 8,
   "id": "99a1f6d0",
   "metadata": {},
   "outputs": [],
   "source": [
    "#Build a 2 qubit quantum circuit\n",
    "\n",
    "qr = q.QuantumRegister(2) #a two qubit quantum register\n",
    "cr = q.ClassicalRegister(2) #a two bit classical register\n",
    "#Create the circuit using the to registers\n",
    "circuit = q.QuantumCircuit(qr, cr)\n"
   ]
  },
  {
   "cell_type": "code",
   "execution_count": 9,
   "id": "503d88ad",
   "metadata": {},
   "outputs": [],
   "source": [
    "#We can also draw our circuits! \n",
    "import matplotlib.pyplot as plt\n",
    "%matplotlib inline"
   ]
  },
  {
   "cell_type": "code",
   "execution_count": 10,
   "id": "c1b12418",
   "metadata": {},
   "outputs": [
    {
     "data": {
      "text/html": [
       "<pre style=\"word-wrap: normal;white-space: pre;background: #fff0;line-height: 1.1;font-family: &quot;Courier New&quot;,Courier,monospace\">      \n",
       "q0_0: \n",
       "      \n",
       "q0_1: \n",
       "      \n",
       "c0: 2/\n",
       "      </pre>"
      ],
      "text/plain": [
       "      \n",
       "q0_0: \n",
       "      \n",
       "q0_1: \n",
       "      \n",
       "c0: 2/\n",
       "      "
      ]
     },
     "execution_count": 10,
     "metadata": {},
     "output_type": "execute_result"
    }
   ],
   "source": [
    "circuit.draw() #We see two qubits and two classical bits"
   ]
  },
  {
   "cell_type": "code",
   "execution_count": 11,
   "id": "b87b5cd0",
   "metadata": {},
   "outputs": [
    {
     "data": {
      "image/png": "[encoded data removed]",
      "text/plain": [
       "<Figure size 159.633x204.68 with 1 Axes>"
      ]
     },
     "execution_count": 11,
     "metadata": {},
     "output_type": "execute_result"
    }
   ],
   "source": [
    " #Create entanglement by a Hadamar gate onto the first qubit\n",
    "circuit.h(qr[0])\n",
    "circuit.draw(output='mpl')"
   ]
  },
  {
   "cell_type": "code",
   "execution_count": 12,
   "id": "48cec227",
   "metadata": {},
   "outputs": [
    {
     "data": {
      "text/plain": [
       "<qiskit.circuit.instructionset.InstructionSet at 0x258fe25f280>"
      ]
     },
     "execution_count": 12,
     "metadata": {},
     "output_type": "execute_result"
    }
   ],
   "source": [
    "#Apply a two qubit operation called controlled X\n",
    "circuit.cx(qr[0],qr[1]) #qr[0] is the controll qubit while qr[1] is the target"
   ]
  },
  {
   "cell_type": "code",
   "execution_count": 13,
   "id": "c3ed8a63",
   "metadata": {},
   "outputs": [
    {
     "data": {
      "image/png": "[encoded data removed]",
      "text/plain": [
       "<Figure size 219.833x204.68 with 1 Axes>"
      ]
     },
     "execution_count": 13,
     "metadata": {},
     "output_type": "execute_result"
    }
   ],
   "source": [
    "circuit.draw(output='mpl')"
   ]
  },
  {
   "cell_type": "code",
   "execution_count": 14,
   "id": "eadbaa6e",
   "metadata": {},
   "outputs": [
    {
     "data": {
      "text/plain": [
       "<qiskit.circuit.instructionset.InstructionSet at 0x258fe379f00>"
      ]
     },
     "execution_count": 14,
     "metadata": {},
     "output_type": "execute_result"
    }
   ],
   "source": [
    "#We have now defined our entanglement circuit, now it's timw to measure the quatum bits and store those meassurements into the classical bits\n",
    "circuit.measure(qr,cr)"
   ]
  },
  {
   "cell_type": "code",
   "execution_count": 15,
   "id": "1ee6e98a",
   "metadata": {},
   "outputs": [
    {
     "data": {
      "image/png": "[encoded data removed]",
      "text/plain": [
       "<Figure size 340.233x204.68 with 1 Axes>"
      ]
     },
     "execution_count": 15,
     "metadata": {},
     "output_type": "execute_result"
    }
   ],
   "source": [
    "circuit.draw(output='mpl')"
   ]
  },
  {
   "cell_type": "markdown",
   "id": "40738b44",
   "metadata": {},
   "source": [
    "#### The moment of truth, let's run the circuit and see what happens. Run it in simulation on Quiskit and then on a real QPU at IBM\n",
    "\n"
   ]
  },
  {
   "cell_type": "code",
   "execution_count": 16,
   "id": "3f4a4024",
   "metadata": {},
   "outputs": [],
   "source": [
    "from qiskit import BasicAer as Aer\n",
    "simulator = Aer.get_backend('qasm_simulator') #qasm = quantum assesment language"
   ]
  },
  {
   "cell_type": "code",
   "execution_count": 17,
   "id": "540c44f9",
   "metadata": {},
   "outputs": [],
   "source": [
    "result = q.execute(circuit, backend = simulator).result()"
   ]
  },
  {
   "cell_type": "code",
   "execution_count": 18,
   "id": "8dead59e",
   "metadata": {},
   "outputs": [],
   "source": [
    "from qiskit.tools.visualization import plot_histogram"
   ]
  },
  {
   "cell_type": "code",
   "execution_count": 19,
   "id": "516a6d7b",
   "metadata": {},
   "outputs": [
    {
     "data": {
      "image/png": "[encoded data removed]",
      "text/plain": [
       "<Figure size 504x360 with 1 Axes>"
      ]
     },
     "execution_count": 19,
     "metadata": {},
     "output_type": "execute_result"
    }
   ],
   "source": [
    "plot_histogram(result.get_counts(circuit))"
   ]
  },
  {
   "cell_type": "markdown",
   "id": "83881fd0",
   "metadata": {},
   "source": [
    "The difference in the meassurments is because of the finite meassurments the simulator runs. Let see what happens when we run it on a real QPU at IBM experience"
   ]
  },
  {
   "cell_type": "code",
   "execution_count": 20,
   "id": "2c57ca05",
   "metadata": {},
   "outputs": [],
   "source": [
    "provider = IBMQ.get_provider('ibm-q')"
   ]
  },
  {
   "cell_type": "code",
   "execution_count": 25,
   "id": "6616ccd3",
   "metadata": {},
   "outputs": [],
   "source": [
    "qcomp = provider.get_backend('ibmq_bogota') #We check the IBM QE website to check which system is online"
   ]
  },
  {
   "cell_type": "code",
   "execution_count": 26,
   "id": "fd5c033f",
   "metadata": {},
   "outputs": [],
   "source": [
    "job = q.execute(circuit,backend=qcomp)"
   ]
  },
  {
   "cell_type": "code",
   "execution_count": 23,
   "id": "0eb5e64b",
   "metadata": {},
   "outputs": [],
   "source": [
    "from qiskit.tools.monitor import job_monitor #This tool let us see our queu within the server"
   ]
  },
  {
   "cell_type": "code",
   "execution_count": 27,
   "id": "e8e8cf23",
   "metadata": {},
   "outputs": [
    {
     "name": "stdout",
     "output_type": "stream",
     "text": [
      "Job Status: job has successfully run\n"
     ]
    }
   ],
   "source": [
    "job_monitor(job)"
   ]
  },
  {
   "cell_type": "code",
   "execution_count": 28,
   "id": "cf29f42e",
   "metadata": {},
   "outputs": [
    {
     "data": {
      "image/png": "[encoded data removed]",
      "text/plain": [
       "<Figure size 504x360 with 1 Axes>"
      ]
     },
     "execution_count": 28,
     "metadata": {},
     "output_type": "execute_result"
    }
   ],
   "source": [
    "result_qpu = job.result()\n",
    "plot_histogram(result_qpu.get_counts(circuit))"
   ]
  },
  {
   "cell_type": "code",
   "execution_count": null,
   "id": "cffefc0a",
   "metadata": {},
   "outputs": [],
   "source": []
  }
 ],
 "metadata": {
  "kernelspec": {
   "display_name": "Python 3",
   "language": "python",
   "name": "python3"
  },
  "language_info": {
   "codemirror_mode": {
    "name": "ipython",
    "version": 3
   },
   "file_extension": ".py",
   "mimetype": "text/x-python",
   "name": "python",
   "nbconvert_exporter": "python",
   "pygments_lexer": "ipython3",
   "version": "3.8.8"
  }
 },
 "nbformat": 4,
 "nbformat_minor": 5
}
